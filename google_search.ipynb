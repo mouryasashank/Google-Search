{
  "nbformat": 4,
  "nbformat_minor": 0,
  "metadata": {
    "colab": {
      "name": "google search.ipynb",
      "provenance": []
    },
    "kernelspec": {
      "name": "python3",
      "display_name": "Python 3"
    }
  },
  "cells": [
    {
      "cell_type": "markdown",
      "metadata": {
        "id": "PRLMsj8Fugco",
        "colab_type": "text"
      },
      "source": [
        "## Install google library"
      ]
    },
    {
      "cell_type": "code",
      "metadata": {
        "id": "-Rjvy8H3iyXE",
        "colab_type": "code",
        "colab": {
          "base_uri": "https://localhost:8080/",
          "height": 51
        },
        "outputId": "e20fba2a-ddc1-4828-8950-14ea18458f66"
      },
      "source": [
        "pip install google"
      ],
      "execution_count": null,
      "outputs": [
        {
          "output_type": "stream",
          "text": [
            "Requirement already satisfied: google in /usr/local/lib/python3.6/dist-packages (2.0.3)\n",
            "Requirement already satisfied: beautifulsoup4 in /usr/local/lib/python3.6/dist-packages (from google) (4.6.3)\n"
          ],
          "name": "stdout"
        }
      ]
    },
    {
      "cell_type": "markdown",
      "metadata": {
        "id": "VtyL1gZtuphd",
        "colab_type": "text"
      },
      "source": [
        "## Search() function"
      ]
    },
    {
      "cell_type": "code",
      "metadata": {
        "id": "M1TIMldTi57O",
        "colab_type": "code",
        "colab": {
          "base_uri": "https://localhost:8080/",
          "height": 187
        },
        "outputId": "95728467-4c24-4715-ab28-5b0df75b2c66"
      },
      "source": [
        "from googlesearch import search\n",
        "query = \"medium\"\n",
        "for i in search(query,tld='co.in',lang='en',num=10,start=0,stop=10,pause=0):\n",
        "  print(i)"
      ],
      "execution_count": null,
      "outputs": [
        {
          "output_type": "stream",
          "text": [
            "https://medium.com/\n",
            "https://en.wikipedia.org/wiki/Medium_(website)\n",
            "https://www.merriam-webster.com/dictionary/medium\n",
            "https://medium.design/logos-and-brand-guidelines-f1a01a733592\n",
            "https://twitter.com/Medium?ref_src=twsrc%5Egoogle%7Ctwcamp%5Eserp%7Ctwgr%5Eauthor\n",
            "https://twitter.com/Medium/status/1299006332540981251?ref_src=twsrc%5Egoogle%7Ctwcamp%5Eserp%7Ctwgr%5Etweet\n",
            "https://twitter.com/Medium/status/1298985113187827712?ref_src=twsrc%5Egoogle%7Ctwcamp%5Eserp%7Ctwgr%5Etweet\n",
            "https://twitter.com/Medium/status/1298976877844070400?ref_src=twsrc%5Egoogle%7Ctwcamp%5Eserp%7Ctwgr%5Etweet\n",
            "https://www.theatlantic.com/technology/archive/2013/08/what-is-medium/278965/\n",
            "https://blog.hubspot.com/marketing/how-to-use-medium\n"
          ],
          "name": "stdout"
        }
      ]
    }
  ]
}